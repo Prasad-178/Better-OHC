{
 "cells": [
  {
   "cell_type": "code",
   "execution_count": 1,
   "metadata": {},
   "outputs": [],
   "source": [
    "from main import BetterOHC\n",
    "import pandas as pd"
   ]
  },
  {
   "cell_type": "code",
   "execution_count": 3,
   "metadata": {},
   "outputs": [
    {
     "data": {
      "text/plain": [
       "HDB BRANCH STATE\n",
       "UTTAR PRADESH       1981\n",
       "BIHAR                818\n",
       "HARYANA              618\n",
       "MADHYA PRADESH       606\n",
       "MAHARASHTRA          532\n",
       "DELHI                511\n",
       "TAMIL NADU           500\n",
       "RAJASTHAN            452\n",
       "JHARKHAND            381\n",
       "UTTARAKHAND          374\n",
       "KARNATAKA            369\n",
       "WEST BENGAL          356\n",
       "TELANGANA            294\n",
       "PUNJAB               256\n",
       "ORISSA               249\n",
       "KERALA               227\n",
       "GUJARAT              218\n",
       "ASSAM                208\n",
       "ANDHRA PRADESH       104\n",
       "CHHATTISGARH          49\n",
       "SIKKIM                17\n",
       "PUDUCHERRY            13\n",
       "TRIPURA                8\n",
       "HIMACHAL PRADESH       5\n",
       "Name: count, dtype: int64"
      ]
     },
     "execution_count": 3,
     "metadata": {},
     "output_type": "execute_result"
    }
   ],
   "source": [
    "df = pd.read_csv(\"./data/Train.csv\")\n",
    "df[\"HDB BRANCH STATE\"].value_counts()"
   ]
  },
  {
   "cell_type": "code",
   "execution_count": 4,
   "metadata": {},
   "outputs": [
    {
     "data": {
      "text/plain": [
       "<main.BetterOHC at 0x751b90128ec0>"
      ]
     },
     "execution_count": 4,
     "metadata": {},
     "output_type": "execute_result"
    }
   ],
   "source": [
    "encoder = BetterOHC(dataframe=df)\n",
    "\n",
    "encoder.fit(\n",
    "  columns=[\"HDB BRANCH STATE\"],\n",
    "  new_class_name=\"Other\",\n",
    ")"
   ]
  },
  {
   "cell_type": "code",
   "execution_count": 5,
   "metadata": {},
   "outputs": [],
   "source": [
    "transformed_df = encoder.transform(df, drop_original=True)"
   ]
  },
  {
   "cell_type": "code",
   "execution_count": 6,
   "metadata": {},
   "outputs": [
    {
     "data": {
      "text/plain": [
       "HDB BRANCH STATE\n",
       "UTTAR PRADESH       416\n",
       "BIHAR               168\n",
       "MADHYA PRADESH      140\n",
       "HARYANA             132\n",
       "DELHI               106\n",
       "MAHARASHTRA         103\n",
       "TAMIL NADU          100\n",
       "RAJASTHAN            80\n",
       "JHARKHAND            68\n",
       "KARNATAKA            67\n",
       "TELANGANA            65\n",
       "UTTARAKHAND          63\n",
       "WEST BENGAL          59\n",
       "ORISSA               49\n",
       "ASSAM                46\n",
       "PUNJAB               44\n",
       "GUJARAT              44\n",
       "KERALA               42\n",
       "CHHATTISGARH         16\n",
       "ANDHRA PRADESH       13\n",
       "HIMACHAL PRADESH      3\n",
       "TRIPURA               2\n",
       "SIKKIM                1\n",
       "PUDUCHERRY            1\n",
       "Name: count, dtype: int64"
      ]
     },
     "execution_count": 6,
     "metadata": {},
     "output_type": "execute_result"
    }
   ],
   "source": [
    "test_df = pd.read_csv(\"./data/Test.csv\")\n",
    "test_df[\"HDB BRANCH STATE\"].value_counts()"
   ]
  },
  {
   "cell_type": "code",
   "execution_count": 8,
   "metadata": {},
   "outputs": [
    {
     "data": {
      "text/plain": [
       "{'HDB BRANCH STATE': ['UTTAR PRADESH',\n",
       "  'BIHAR',\n",
       "  'HARYANA',\n",
       "  'MADHYA PRADESH',\n",
       "  'MAHARASHTRA',\n",
       "  'DELHI',\n",
       "  'TAMIL NADU',\n",
       "  'RAJASTHAN',\n",
       "  'JHARKHAND',\n",
       "  'UTTARAKHAND',\n",
       "  'KARNATAKA',\n",
       "  'WEST BENGAL',\n",
       "  'TELANGANA',\n",
       "  'PUNJAB',\n",
       "  'ORISSA',\n",
       "  'KERALA',\n",
       "  'GUJARAT',\n",
       "  'ASSAM',\n",
       "  'ANDHRA PRADESH',\n",
       "  'Other']}"
      ]
     },
     "execution_count": 8,
     "metadata": {},
     "output_type": "execute_result"
    }
   ],
   "source": [
    "encoder.column_values"
   ]
  },
  {
   "cell_type": "code",
   "execution_count": 9,
   "metadata": {},
   "outputs": [],
   "source": [
    "transformed_test = encoder.transform(test_df)"
   ]
  },
  {
   "cell_type": "code",
   "execution_count": null,
   "metadata": {},
   "outputs": [],
   "source": []
  }
 ],
 "metadata": {
  "kernelspec": {
   "display_name": "BetterOHC",
   "language": "python",
   "name": "python3"
  },
  "language_info": {
   "codemirror_mode": {
    "name": "ipython",
    "version": 3
   },
   "file_extension": ".py",
   "mimetype": "text/x-python",
   "name": "python",
   "nbconvert_exporter": "python",
   "pygments_lexer": "ipython3",
   "version": "3.13.1"
  }
 },
 "nbformat": 4,
 "nbformat_minor": 2
}
